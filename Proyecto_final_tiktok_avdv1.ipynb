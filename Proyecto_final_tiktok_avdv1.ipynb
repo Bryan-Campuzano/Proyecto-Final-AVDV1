{
 "cells": [
  {
   "cell_type": "markdown",
   "metadata": {},
   "source": [
    "# Análisis de Datos de TikTok\n",
    "\n",
    "Bryan Alexander Campuzano Giraldo\n",
    "\n",
    "GRUPO 243\n",
    "\n",
    "Programa: AVDV1\n",
    "\n",
    "Código Fuente: autoría propia\n",
    "\n",
    "## Introducción\n",
    "\n",
    "Este proyecto está basado en un análisis del **Dataset de TikTok**, una de las plataformas de redes sociales más influyentes a nivel global. TikTok se ha convertido en un fenómeno cultural, conocido por sus videos cortos y virales que abarcan desde tendencias de baile hasta contenido educativo y de entretenimiento. \n",
    "\n",
    "El objetivo principal de este proyecto es comprender y analizar los datos recopilados de la plataforma TikTok, enfocándonos en aspectos clave como el comportamiento del usuario, las tendencias de contenido y el impacto social de la aplicación.\n",
    "\n",
    "## Objetivos del Proyecto\n",
    "\n",
    "1. **Reconocer y entender el tipo de datos disponibles**: Exploraremos el conjunto de datos para identificar las variables y características relevantes que pueden proporcionar información valiosa sobre el uso de TikTok.\n",
    "   \n",
    "2. **Realizar limpieza de datos**: Es esencial limpiar el conjunto de datos para eliminar inconsistencias, datos faltantes y posibles errores, garantizando así la precisión de nuestro análisis.\n",
    "   \n",
    "3. **Análisis de las gráficas**: Utilizaremos herramientas de visualización de datos para crear gráficos que nos permitan interpretar patrones, tendencias y relaciones dentro del conjunto de datos.\n",
    "\n",
    "## Importación de Librerías\n",
    "\n",
    "Iniciamos importando las librerías necesarias para el análisis y visualización de los datos:"
   ]
  },
  {
   "cell_type": "code",
   "execution_count": null,
   "metadata": {},
   "outputs": [],
   "source": [
    "import pandas as pd\n",
    "import matplotlib.pyplot as plt\n",
    "import seaborn as sns\n",
    "import plotly.express as px\n",
    "\n",
    "# Cargar el dataset\n",
    "df = pd.read_csv('/home/bryan/Descargas/AVDV1-243/Actividades/Componente Tecnico/PROYECTO FINAL/tiktok_dataset.csv')\n",
    "\n",
    "# Vista previa del dataset\n",
    "df.head()"
   ]
  }
 ],
 "metadata": {
  "kernelspec": {
   "display_name": "proyecto_final_avdv1",
   "language": "python",
   "name": "python3"
  },
  "language_info": {
   "name": "python",
   "version": "3.12.4"
  }
 },
 "nbformat": 4,
 "nbformat_minor": 2
}
